{
 "cells": [
  {
   "cell_type": "markdown",
   "metadata": {
    "colab_type": "text",
    "id": "TGSlEOmerPnD"
   },
   "source": [
    "# Библиотека `pandas`: часть 1\n",
    "\n",
    "*Ашот Гимишян*\n",
    "\n",
    "## Домашнее задание "
   ]
  },
  {
   "cell_type": "code",
   "execution_count": 2,
   "metadata": {},
   "outputs": [],
   "source": [
    "import pandas as pd"
   ]
  },
  {
   "cell_type": "code",
   "execution_count": 4,
   "metadata": {},
   "outputs": [],
   "source": [
    "import numpy as np"
   ]
  },
  {
   "cell_type": "markdown",
   "metadata": {
    "colab_type": "text",
    "id": "NExy7dE1rPnE"
   },
   "source": [
    "### Задание 1\n",
    "\n",
    "Загрузить массив `NumPy` из файла `\"arr_pandas.npy\"` (как в задании к предыдущему модулю) и преобразовать его в датафрейм. Массив содержит данные по результатам соревнований Scottish Hill Races в 2000 году (полное описание на английском языке можно посмотреть на [странице](https://vincentarelbundock.github.io/Rdatasets/doc/DAAG/races2000.html) с документацией по исходному файлу с данными).\n",
    "\n",
    "**Подсказка (преобразование в датафрейм):**"
   ]
  },
  {
   "cell_type": "code",
   "execution_count": 11,
   "metadata": {},
   "outputs": [],
   "source": [
    "arr = np.load(\"arr_pandas.npy\", allow_pickle=True)"
   ]
  },
  {
   "cell_type": "code",
   "execution_count": 16,
   "metadata": {},
   "outputs": [
    {
     "name": "stdout",
     "output_type": "stream",
     "text": [
      "[['Aonach Mor Gondola' 2.0 2000 0.40361111111111103 0.518888888888889\n",
      "  'uphill']\n",
      " ['Broughton Brewery' 2.0 650 0.254444444444444 0.316666666666667 'other']\n",
      " ['El-Brim-Ick' 3.0 750 0.4858333333333329 0.3891666666666671 'other']\n",
      " ['The Devils Burdens' 21.0 4100 2.3997222222222203 3.09333333333333\n",
      "  'relay']\n",
      " ['Tiso Carnethy' 6.0 2500 0.782222222222222 0.919166666666667 'hill']]\n"
     ]
    }
   ],
   "source": [
    "print(arr[:5])"
   ]
  },
  {
   "cell_type": "code",
   "execution_count": 17,
   "metadata": {
    "colab": {},
    "colab_type": "code",
    "id": "KuLeAnNQrPnF"
   },
   "outputs": [],
   "source": [
    "dat = pd.DataFrame(arr)  # arr - массив NumPy из файла\n",
    "# Если при загрузке файла вы столкнетесь с ошибкой, в которой будет упомянут параметр allow_pickle=False\n",
    "# То попробуйте явно задать значение этого параметра - allow_pickle=True при вызове функции загрузки файла"
   ]
  },
  {
   "cell_type": "code",
   "execution_count": 19,
   "metadata": {},
   "outputs": [
    {
     "data": {
      "text/html": [
       "<div>\n",
       "<style scoped>\n",
       "    .dataframe tbody tr th:only-of-type {\n",
       "        vertical-align: middle;\n",
       "    }\n",
       "\n",
       "    .dataframe tbody tr th {\n",
       "        vertical-align: top;\n",
       "    }\n",
       "\n",
       "    .dataframe thead th {\n",
       "        text-align: right;\n",
       "    }\n",
       "</style>\n",
       "<table border=\"1\" class=\"dataframe\">\n",
       "  <thead>\n",
       "    <tr style=\"text-align: right;\">\n",
       "      <th></th>\n",
       "      <th>0</th>\n",
       "      <th>1</th>\n",
       "      <th>2</th>\n",
       "      <th>3</th>\n",
       "      <th>4</th>\n",
       "      <th>5</th>\n",
       "    </tr>\n",
       "  </thead>\n",
       "  <tbody>\n",
       "    <tr>\n",
       "      <th>0</th>\n",
       "      <td>Aonach Mor Gondola</td>\n",
       "      <td>2.0</td>\n",
       "      <td>2000</td>\n",
       "      <td>0.403611</td>\n",
       "      <td>0.518889</td>\n",
       "      <td>uphill</td>\n",
       "    </tr>\n",
       "    <tr>\n",
       "      <th>1</th>\n",
       "      <td>Broughton Brewery</td>\n",
       "      <td>2.0</td>\n",
       "      <td>650</td>\n",
       "      <td>0.254444</td>\n",
       "      <td>0.316667</td>\n",
       "      <td>other</td>\n",
       "    </tr>\n",
       "    <tr>\n",
       "      <th>2</th>\n",
       "      <td>El-Brim-Ick</td>\n",
       "      <td>3.0</td>\n",
       "      <td>750</td>\n",
       "      <td>0.485833</td>\n",
       "      <td>0.389167</td>\n",
       "      <td>other</td>\n",
       "    </tr>\n",
       "    <tr>\n",
       "      <th>3</th>\n",
       "      <td>The Devils Burdens</td>\n",
       "      <td>21.0</td>\n",
       "      <td>4100</td>\n",
       "      <td>2.399722</td>\n",
       "      <td>3.093333</td>\n",
       "      <td>relay</td>\n",
       "    </tr>\n",
       "    <tr>\n",
       "      <th>4</th>\n",
       "      <td>Tiso Carnethy</td>\n",
       "      <td>6.0</td>\n",
       "      <td>2500</td>\n",
       "      <td>0.782222</td>\n",
       "      <td>0.919167</td>\n",
       "      <td>hill</td>\n",
       "    </tr>\n",
       "  </tbody>\n",
       "</table>\n",
       "</div>"
      ],
      "text/plain": [
       "                    0     1     2         3         4       5\n",
       "0  Aonach Mor Gondola   2.0  2000  0.403611  0.518889  uphill\n",
       "1   Broughton Brewery   2.0   650  0.254444  0.316667   other\n",
       "2         El-Brim-Ick   3.0   750  0.485833  0.389167   other\n",
       "3  The Devils Burdens  21.0  4100  2.399722  3.093333   relay\n",
       "4       Tiso Carnethy   6.0  2500  0.782222  0.919167    hill"
      ]
     },
     "execution_count": 19,
     "metadata": {},
     "output_type": "execute_result"
    }
   ],
   "source": [
    "dat.head(5)"
   ]
  },
  {
   "cell_type": "markdown",
   "metadata": {
    "colab_type": "text",
    "id": "DKJF6IXCrPnL"
   },
   "source": [
    "### Задание 2\n",
    "\n",
    "Определить, сколько в датафрейме строк и столбцов. Привести код и указать ответ в виде текста или комментария к коду."
   ]
  },
  {
   "cell_type": "code",
   "execution_count": 25,
   "metadata": {
    "colab": {},
    "colab_type": "code",
    "id": "8b-UkWU8rPnL"
   },
   "outputs": [
    {
     "name": "stdout",
     "output_type": "stream",
     "text": [
      "Строк: 77\n",
      "Столбцов: 6\n"
     ]
    }
   ],
   "source": [
    "print(\"Строк:\", dat.shape[0])\n",
    "print(\"Столбцов:\", dat.shape[1])"
   ]
  },
  {
   "cell_type": "markdown",
   "metadata": {
    "colab_type": "text",
    "id": "FGDqgiAxrPnP"
   },
   "source": [
    "### Задание 3\n",
    "\n",
    "Присвоить столбцам следующие названия (указаны с пояснениями): \n",
    "\n",
    "* `id`: id участника\n",
    "* `dist`: расстояние в милях (по карте)\n",
    "* `climb`: высота, достигнутая на маршруте (в сумме за весь маршрут, в футах)\n",
    "* `time`: время (в часах)\n",
    "* `timef`: время для женщин (в часах)\n",
    "* `type`: тип гонки (*hill*, *marathon*, *relay*, *uphill* or *other*)"
   ]
  },
  {
   "cell_type": "code",
   "execution_count": 27,
   "metadata": {
    "colab": {},
    "colab_type": "code",
    "id": "NY-269FGrPnQ"
   },
   "outputs": [],
   "source": [
    "dat.columns = ['id','dist','climb','time','timef','type']"
   ]
  },
  {
   "cell_type": "code",
   "execution_count": 29,
   "metadata": {},
   "outputs": [
    {
     "data": {
      "text/html": [
       "<div>\n",
       "<style scoped>\n",
       "    .dataframe tbody tr th:only-of-type {\n",
       "        vertical-align: middle;\n",
       "    }\n",
       "\n",
       "    .dataframe tbody tr th {\n",
       "        vertical-align: top;\n",
       "    }\n",
       "\n",
       "    .dataframe thead th {\n",
       "        text-align: right;\n",
       "    }\n",
       "</style>\n",
       "<table border=\"1\" class=\"dataframe\">\n",
       "  <thead>\n",
       "    <tr style=\"text-align: right;\">\n",
       "      <th></th>\n",
       "      <th>id</th>\n",
       "      <th>dist</th>\n",
       "      <th>climb</th>\n",
       "      <th>time</th>\n",
       "      <th>timef</th>\n",
       "      <th>type</th>\n",
       "    </tr>\n",
       "  </thead>\n",
       "  <tbody>\n",
       "    <tr>\n",
       "      <th>0</th>\n",
       "      <td>Aonach Mor Gondola</td>\n",
       "      <td>2.0</td>\n",
       "      <td>2000</td>\n",
       "      <td>0.403611</td>\n",
       "      <td>0.518889</td>\n",
       "      <td>uphill</td>\n",
       "    </tr>\n",
       "  </tbody>\n",
       "</table>\n",
       "</div>"
      ],
      "text/plain": [
       "                   id dist climb      time     timef    type\n",
       "0  Aonach Mor Gondola  2.0  2000  0.403611  0.518889  uphill"
      ]
     },
     "execution_count": 29,
     "metadata": {},
     "output_type": "execute_result"
    }
   ],
   "source": [
    "dat.head(1)"
   ]
  },
  {
   "cell_type": "markdown",
   "metadata": {
    "colab_type": "text",
    "id": "zO-W3sS1rPnT"
   },
   "source": [
    "### Задание 4\n",
    "\n",
    "Вывести на экран значение высоты, достигнутой на маршруте участником *Norman's Law*."
   ]
  },
  {
   "cell_type": "code",
   "execution_count": 58,
   "metadata": {
    "colab": {},
    "colab_type": "code",
    "id": "WD7RsfpIrPnU"
   },
   "outputs": [],
   "source": [
    "dat.index = dat['id']"
   ]
  },
  {
   "cell_type": "code",
   "execution_count": 59,
   "metadata": {},
   "outputs": [
    {
     "data": {
      "text/html": [
       "<div>\n",
       "<style scoped>\n",
       "    .dataframe tbody tr th:only-of-type {\n",
       "        vertical-align: middle;\n",
       "    }\n",
       "\n",
       "    .dataframe tbody tr th {\n",
       "        vertical-align: top;\n",
       "    }\n",
       "\n",
       "    .dataframe thead th {\n",
       "        text-align: right;\n",
       "    }\n",
       "</style>\n",
       "<table border=\"1\" class=\"dataframe\">\n",
       "  <thead>\n",
       "    <tr style=\"text-align: right;\">\n",
       "      <th></th>\n",
       "      <th>id</th>\n",
       "      <th>dist</th>\n",
       "      <th>climb</th>\n",
       "      <th>time</th>\n",
       "      <th>timef</th>\n",
       "      <th>type</th>\n",
       "    </tr>\n",
       "    <tr>\n",
       "      <th>id</th>\n",
       "      <th></th>\n",
       "      <th></th>\n",
       "      <th></th>\n",
       "      <th></th>\n",
       "      <th></th>\n",
       "      <th></th>\n",
       "    </tr>\n",
       "  </thead>\n",
       "  <tbody>\n",
       "    <tr>\n",
       "      <th>Aonach Mor Gondola</th>\n",
       "      <td>Aonach Mor Gondola</td>\n",
       "      <td>2.0</td>\n",
       "      <td>2000</td>\n",
       "      <td>0.403611</td>\n",
       "      <td>0.518889</td>\n",
       "      <td>uphill</td>\n",
       "    </tr>\n",
       "    <tr>\n",
       "      <th>Broughton Brewery</th>\n",
       "      <td>Broughton Brewery</td>\n",
       "      <td>2.0</td>\n",
       "      <td>650</td>\n",
       "      <td>0.254444</td>\n",
       "      <td>0.316667</td>\n",
       "      <td>other</td>\n",
       "    </tr>\n",
       "    <tr>\n",
       "      <th>El-Brim-Ick</th>\n",
       "      <td>El-Brim-Ick</td>\n",
       "      <td>3.0</td>\n",
       "      <td>750</td>\n",
       "      <td>0.485833</td>\n",
       "      <td>0.389167</td>\n",
       "      <td>other</td>\n",
       "    </tr>\n",
       "    <tr>\n",
       "      <th>The Devils Burdens</th>\n",
       "      <td>The Devils Burdens</td>\n",
       "      <td>21.0</td>\n",
       "      <td>4100</td>\n",
       "      <td>2.399722</td>\n",
       "      <td>3.093333</td>\n",
       "      <td>relay</td>\n",
       "    </tr>\n",
       "    <tr>\n",
       "      <th>Tiso Carnethy</th>\n",
       "      <td>Tiso Carnethy</td>\n",
       "      <td>6.0</td>\n",
       "      <td>2500</td>\n",
       "      <td>0.782222</td>\n",
       "      <td>0.919167</td>\n",
       "      <td>hill</td>\n",
       "    </tr>\n",
       "    <tr>\n",
       "      <th>...</th>\n",
       "      <td>...</td>\n",
       "      <td>...</td>\n",
       "      <td>...</td>\n",
       "      <td>...</td>\n",
       "      <td>...</td>\n",
       "      <td>...</td>\n",
       "    </tr>\n",
       "    <tr>\n",
       "      <th>Tinto</th>\n",
       "      <td>Tinto</td>\n",
       "      <td>4.5</td>\n",
       "      <td>1500</td>\n",
       "      <td>0.499444</td>\n",
       "      <td>0.581111</td>\n",
       "      <td>hill</td>\n",
       "    </tr>\n",
       "    <tr>\n",
       "      <th>Druim Fada</th>\n",
       "      <td>Druim Fada</td>\n",
       "      <td>6.5</td>\n",
       "      <td>1000</td>\n",
       "      <td>0.751111</td>\n",
       "      <td>0.972222</td>\n",
       "      <td>other</td>\n",
       "    </tr>\n",
       "    <tr>\n",
       "      <th>Elrick</th>\n",
       "      <td>Elrick</td>\n",
       "      <td>3.6</td>\n",
       "      <td>650</td>\n",
       "      <td>0.358056</td>\n",
       "      <td>0.4425</td>\n",
       "      <td>relay</td>\n",
       "    </tr>\n",
       "    <tr>\n",
       "      <th>Gondola</th>\n",
       "      <td>Gondola</td>\n",
       "      <td>2.5</td>\n",
       "      <td>2000</td>\n",
       "      <td>0.387222</td>\n",
       "      <td>0.518889</td>\n",
       "      <td>uphill</td>\n",
       "    </tr>\n",
       "    <tr>\n",
       "      <th>Greenmantle</th>\n",
       "      <td>Greenmantle</td>\n",
       "      <td>2.0</td>\n",
       "      <td>650</td>\n",
       "      <td>0.254444</td>\n",
       "      <td>0.316667</td>\n",
       "      <td>other</td>\n",
       "    </tr>\n",
       "  </tbody>\n",
       "</table>\n",
       "<p>77 rows × 6 columns</p>\n",
       "</div>"
      ],
      "text/plain": [
       "                                    id  dist climb      time     timef    type\n",
       "id                                                                            \n",
       "Aonach Mor Gondola  Aonach Mor Gondola   2.0  2000  0.403611  0.518889  uphill\n",
       "Broughton Brewery    Broughton Brewery   2.0   650  0.254444  0.316667   other\n",
       "El-Brim-Ick                El-Brim-Ick   3.0   750  0.485833  0.389167   other\n",
       "The Devils Burdens  The Devils Burdens  21.0  4100  2.399722  3.093333   relay\n",
       "Tiso Carnethy            Tiso Carnethy   6.0  2500  0.782222  0.919167    hill\n",
       "...                                ...   ...   ...       ...       ...     ...\n",
       "Tinto                            Tinto   4.5  1500  0.499444  0.581111    hill\n",
       "Druim Fada                  Druim Fada   6.5  1000  0.751111  0.972222   other\n",
       "Elrick                          Elrick   3.6   650  0.358056    0.4425   relay\n",
       "Gondola                        Gondola   2.5  2000  0.387222  0.518889  uphill\n",
       "Greenmantle                Greenmantle   2.0   650  0.254444  0.316667   other\n",
       "\n",
       "[77 rows x 6 columns]"
      ]
     },
     "execution_count": 59,
     "metadata": {},
     "output_type": "execute_result"
    }
   ],
   "source": [
    "dat"
   ]
  },
  {
   "cell_type": "code",
   "execution_count": 62,
   "metadata": {},
   "outputs": [
    {
     "data": {
      "text/plain": [
       "700"
      ]
     },
     "execution_count": 62,
     "metadata": {},
     "output_type": "execute_result"
    }
   ],
   "source": [
    "dat.loc[\"Norman's Law\"]['climb']"
   ]
  },
  {
   "cell_type": "markdown",
   "metadata": {
    "colab_type": "text",
    "id": "FWSvXwDsrPnX"
   },
   "source": [
    "### Задание 5\n",
    "Вывести на экран значения показателей `dist`, `climb` , `time` для первых 10 участников."
   ]
  },
  {
   "cell_type": "code",
   "execution_count": 65,
   "metadata": {
    "colab": {},
    "colab_type": "code",
    "id": "Rx8FCk-1rPnX"
   },
   "outputs": [
    {
     "data": {
      "text/html": [
       "<div>\n",
       "<style scoped>\n",
       "    .dataframe tbody tr th:only-of-type {\n",
       "        vertical-align: middle;\n",
       "    }\n",
       "\n",
       "    .dataframe tbody tr th {\n",
       "        vertical-align: top;\n",
       "    }\n",
       "\n",
       "    .dataframe thead th {\n",
       "        text-align: right;\n",
       "    }\n",
       "</style>\n",
       "<table border=\"1\" class=\"dataframe\">\n",
       "  <thead>\n",
       "    <tr style=\"text-align: right;\">\n",
       "      <th></th>\n",
       "      <th>dist</th>\n",
       "      <th>climb</th>\n",
       "      <th>time</th>\n",
       "    </tr>\n",
       "    <tr>\n",
       "      <th>id</th>\n",
       "      <th></th>\n",
       "      <th></th>\n",
       "      <th></th>\n",
       "    </tr>\n",
       "  </thead>\n",
       "  <tbody>\n",
       "    <tr>\n",
       "      <th>Aonach Mor Gondola</th>\n",
       "      <td>2.0</td>\n",
       "      <td>2000</td>\n",
       "      <td>0.403611</td>\n",
       "    </tr>\n",
       "    <tr>\n",
       "      <th>Broughton Brewery</th>\n",
       "      <td>2.0</td>\n",
       "      <td>650</td>\n",
       "      <td>0.254444</td>\n",
       "    </tr>\n",
       "    <tr>\n",
       "      <th>El-Brim-Ick</th>\n",
       "      <td>3.0</td>\n",
       "      <td>750</td>\n",
       "      <td>0.485833</td>\n",
       "    </tr>\n",
       "    <tr>\n",
       "      <th>The Devils Burdens</th>\n",
       "      <td>21.0</td>\n",
       "      <td>4100</td>\n",
       "      <td>2.399722</td>\n",
       "    </tr>\n",
       "    <tr>\n",
       "      <th>Tiso Carnethy</th>\n",
       "      <td>6.0</td>\n",
       "      <td>2500</td>\n",
       "      <td>0.782222</td>\n",
       "    </tr>\n",
       "    <tr>\n",
       "      <th>Criffel</th>\n",
       "      <td>7.0</td>\n",
       "      <td>1800</td>\n",
       "      <td>0.793333</td>\n",
       "    </tr>\n",
       "    <tr>\n",
       "      <th>Chapelgill</th>\n",
       "      <td>1.5</td>\n",
       "      <td>1400</td>\n",
       "      <td>0.314444</td>\n",
       "    </tr>\n",
       "    <tr>\n",
       "      <th>Norman's Law</th>\n",
       "      <td>5.0</td>\n",
       "      <td>700</td>\n",
       "      <td>0.464167</td>\n",
       "    </tr>\n",
       "    <tr>\n",
       "      <th>Craig Dunain</th>\n",
       "      <td>6.0</td>\n",
       "      <td>900</td>\n",
       "      <td>0.546111</td>\n",
       "    </tr>\n",
       "    <tr>\n",
       "      <th>Knockfarrel</th>\n",
       "      <td>5.0</td>\n",
       "      <td>1200</td>\n",
       "      <td>0.623333</td>\n",
       "    </tr>\n",
       "  </tbody>\n",
       "</table>\n",
       "</div>"
      ],
      "text/plain": [
       "                    dist climb      time\n",
       "id                                      \n",
       "Aonach Mor Gondola   2.0  2000  0.403611\n",
       "Broughton Brewery    2.0   650  0.254444\n",
       "El-Brim-Ick          3.0   750  0.485833\n",
       "The Devils Burdens  21.0  4100  2.399722\n",
       "Tiso Carnethy        6.0  2500  0.782222\n",
       "Criffel              7.0  1800  0.793333\n",
       "Chapelgill           1.5  1400  0.314444\n",
       "Norman's Law         5.0   700  0.464167\n",
       "Craig Dunain         6.0   900  0.546111\n",
       "Knockfarrel          5.0  1200  0.623333"
      ]
     },
     "execution_count": 65,
     "metadata": {},
     "output_type": "execute_result"
    }
   ],
   "source": [
    "dat[['dist', 'climb', 'time']].head(10)"
   ]
  },
  {
   "cell_type": "markdown",
   "metadata": {
    "colab_type": "text",
    "id": "hE_DuG3zrPnb"
   },
   "source": [
    "### Задание 6\n",
    "\n",
    "Вывести на экран сводную информацию по датафрейму, которая включает типы всех столбцов. Сколько столбцов типа `float` в датафрейме? Привести ответ на вопрос в виде текста или комментария к коду."
   ]
  },
  {
   "cell_type": "code",
   "execution_count": 80,
   "metadata": {},
   "outputs": [
    {
     "name": "stdout",
     "output_type": "stream",
     "text": [
      "<class 'pandas.core.frame.DataFrame'>\n",
      "Index: 77 entries, Aonach Mor Gondola to Greenmantle\n",
      "Data columns (total 6 columns):\n",
      " #   Column  Non-Null Count  Dtype \n",
      "---  ------  --------------  ----- \n",
      " 0   id      77 non-null     object\n",
      " 1   dist    77 non-null     object\n",
      " 2   climb   77 non-null     object\n",
      " 3   time    77 non-null     object\n",
      " 4   timef   75 non-null     object\n",
      " 5   type    77 non-null     object\n",
      "dtypes: object(6)\n",
      "memory usage: 6.3+ KB\n"
     ]
    }
   ],
   "source": [
    "dat.info() # Нет столбцов типа float"
   ]
  },
  {
   "cell_type": "markdown",
   "metadata": {
    "colab_type": "text",
    "id": "HZk0YywrrPne"
   },
   "source": [
    "### Задание 7\n",
    "\n",
    "Выбрать строки, которые соответствуют участникам эстафеты (*relay*)."
   ]
  },
  {
   "cell_type": "code",
   "execution_count": 82,
   "metadata": {
    "colab": {},
    "colab_type": "code",
    "id": "oVotUFlMrPne"
   },
   "outputs": [
    {
     "data": {
      "text/html": [
       "<div>\n",
       "<style scoped>\n",
       "    .dataframe tbody tr th:only-of-type {\n",
       "        vertical-align: middle;\n",
       "    }\n",
       "\n",
       "    .dataframe tbody tr th {\n",
       "        vertical-align: top;\n",
       "    }\n",
       "\n",
       "    .dataframe thead th {\n",
       "        text-align: right;\n",
       "    }\n",
       "</style>\n",
       "<table border=\"1\" class=\"dataframe\">\n",
       "  <thead>\n",
       "    <tr style=\"text-align: right;\">\n",
       "      <th></th>\n",
       "      <th>id</th>\n",
       "      <th>dist</th>\n",
       "      <th>climb</th>\n",
       "      <th>time</th>\n",
       "      <th>timef</th>\n",
       "      <th>type</th>\n",
       "    </tr>\n",
       "    <tr>\n",
       "      <th>id</th>\n",
       "      <th></th>\n",
       "      <th></th>\n",
       "      <th></th>\n",
       "      <th></th>\n",
       "      <th></th>\n",
       "      <th></th>\n",
       "    </tr>\n",
       "  </thead>\n",
       "  <tbody>\n",
       "    <tr>\n",
       "      <th>The Devils Burdens</th>\n",
       "      <td>The Devils Burdens</td>\n",
       "      <td>21.0</td>\n",
       "      <td>4100</td>\n",
       "      <td>2.399722</td>\n",
       "      <td>3.093333</td>\n",
       "      <td>relay</td>\n",
       "    </tr>\n",
       "    <tr>\n",
       "      <th>Ben Rha</th>\n",
       "      <td>Ben Rha</td>\n",
       "      <td>7.5</td>\n",
       "      <td>800</td>\n",
       "      <td>0.738056</td>\n",
       "      <td>0.997222</td>\n",
       "      <td>relay</td>\n",
       "    </tr>\n",
       "    <tr>\n",
       "      <th>Elrick</th>\n",
       "      <td>Elrick</td>\n",
       "      <td>3.6</td>\n",
       "      <td>650</td>\n",
       "      <td>0.358056</td>\n",
       "      <td>0.4425</td>\n",
       "      <td>relay</td>\n",
       "    </tr>\n",
       "  </tbody>\n",
       "</table>\n",
       "</div>"
      ],
      "text/plain": [
       "                                    id  dist climb      time     timef   type\n",
       "id                                                                           \n",
       "The Devils Burdens  The Devils Burdens  21.0  4100  2.399722  3.093333  relay\n",
       "Ben Rha                        Ben Rha   7.5   800  0.738056  0.997222  relay\n",
       "Elrick                          Elrick   3.6   650  0.358056    0.4425  relay"
      ]
     },
     "execution_count": 82,
     "metadata": {},
     "output_type": "execute_result"
    }
   ],
   "source": [
    "dat.loc[dat['type']==\"relay\"]"
   ]
  },
  {
   "cell_type": "markdown",
   "metadata": {
    "colab_type": "text",
    "id": "kzFdcYCCrPnh"
   },
   "source": [
    "### Задание 8\n",
    "\n",
    "Выбрать строки, которые соответствуют участникам гонки в холмах (*hill*), которые в сумме достигли высоты более 1000 футов. Посчитать, сколько таких участников."
   ]
  },
  {
   "cell_type": "code",
   "execution_count": 108,
   "metadata": {
    "colab": {},
    "colab_type": "code",
    "id": "QqaztdTGrPni"
   },
   "outputs": [
    {
     "data": {
      "text/html": [
       "<div>\n",
       "<style scoped>\n",
       "    .dataframe tbody tr th:only-of-type {\n",
       "        vertical-align: middle;\n",
       "    }\n",
       "\n",
       "    .dataframe tbody tr th {\n",
       "        vertical-align: top;\n",
       "    }\n",
       "\n",
       "    .dataframe thead th {\n",
       "        text-align: right;\n",
       "    }\n",
       "</style>\n",
       "<table border=\"1\" class=\"dataframe\">\n",
       "  <thead>\n",
       "    <tr style=\"text-align: right;\">\n",
       "      <th></th>\n",
       "      <th>id</th>\n",
       "      <th>dist</th>\n",
       "      <th>climb</th>\n",
       "      <th>time</th>\n",
       "      <th>timef</th>\n",
       "      <th>type</th>\n",
       "    </tr>\n",
       "    <tr>\n",
       "      <th>id</th>\n",
       "      <th></th>\n",
       "      <th></th>\n",
       "      <th></th>\n",
       "      <th></th>\n",
       "      <th></th>\n",
       "      <th></th>\n",
       "    </tr>\n",
       "  </thead>\n",
       "  <tbody>\n",
       "    <tr>\n",
       "      <th>Tiso Carnethy</th>\n",
       "      <td>Tiso Carnethy</td>\n",
       "      <td>6.0</td>\n",
       "      <td>2500</td>\n",
       "      <td>0.782222</td>\n",
       "      <td>0.919167</td>\n",
       "      <td>hill</td>\n",
       "    </tr>\n",
       "    <tr>\n",
       "      <th>Criffel</th>\n",
       "      <td>Criffel</td>\n",
       "      <td>7.0</td>\n",
       "      <td>1800</td>\n",
       "      <td>0.793333</td>\n",
       "      <td>1.003333</td>\n",
       "      <td>hill</td>\n",
       "    </tr>\n",
       "    <tr>\n",
       "      <th>Chapelgill</th>\n",
       "      <td>Chapelgill</td>\n",
       "      <td>1.5</td>\n",
       "      <td>1400</td>\n",
       "      <td>0.314444</td>\n",
       "      <td>0.376667</td>\n",
       "      <td>hill</td>\n",
       "    </tr>\n",
       "  </tbody>\n",
       "</table>\n",
       "</div>"
      ],
      "text/plain": [
       "                          id dist climb      time     timef  type\n",
       "id                                                               \n",
       "Tiso Carnethy  Tiso Carnethy  6.0  2500  0.782222  0.919167  hill\n",
       "Criffel              Criffel  7.0  1800  0.793333  1.003333  hill\n",
       "Chapelgill        Chapelgill  1.5  1400  0.314444  0.376667  hill"
      ]
     },
     "execution_count": 108,
     "metadata": {},
     "output_type": "execute_result"
    }
   ],
   "source": [
    "x = dat[(dat['type']==\"hill\") & (dat['climb'] > 1000)]\n",
    "x.head(3)\n"
   ]
  },
  {
   "cell_type": "code",
   "execution_count": 109,
   "metadata": {},
   "outputs": [
    {
     "data": {
      "text/plain": [
       "39"
      ]
     },
     "execution_count": 109,
     "metadata": {},
     "output_type": "execute_result"
    }
   ],
   "source": [
    "len(x)"
   ]
  },
  {
   "cell_type": "markdown",
   "metadata": {
    "colab_type": "text",
    "id": "DpE3J3EgrPnk"
   },
   "source": [
    "### Задание 9\n",
    "\n",
    "Выбрать строки, соответствующие участникам, которые либо достигли высоты более 4000 футов, либо потратили менее 0.5 часов."
   ]
  },
  {
   "cell_type": "code",
   "execution_count": 113,
   "metadata": {
    "colab": {},
    "colab_type": "code",
    "id": "PLoGXxynrPnk"
   },
   "outputs": [],
   "source": [
    "y = dat[(dat['time']<0.5) | (dat['climb'] > 4000)]\n"
   ]
  },
  {
   "cell_type": "code",
   "execution_count": 115,
   "metadata": {},
   "outputs": [
    {
     "data": {
      "text/html": [
       "<div>\n",
       "<style scoped>\n",
       "    .dataframe tbody tr th:only-of-type {\n",
       "        vertical-align: middle;\n",
       "    }\n",
       "\n",
       "    .dataframe tbody tr th {\n",
       "        vertical-align: top;\n",
       "    }\n",
       "\n",
       "    .dataframe thead th {\n",
       "        text-align: right;\n",
       "    }\n",
       "</style>\n",
       "<table border=\"1\" class=\"dataframe\">\n",
       "  <thead>\n",
       "    <tr style=\"text-align: right;\">\n",
       "      <th></th>\n",
       "      <th>id</th>\n",
       "      <th>dist</th>\n",
       "      <th>climb</th>\n",
       "      <th>time</th>\n",
       "      <th>timef</th>\n",
       "      <th>type</th>\n",
       "    </tr>\n",
       "    <tr>\n",
       "      <th>id</th>\n",
       "      <th></th>\n",
       "      <th></th>\n",
       "      <th></th>\n",
       "      <th></th>\n",
       "      <th></th>\n",
       "      <th></th>\n",
       "    </tr>\n",
       "  </thead>\n",
       "  <tbody>\n",
       "    <tr>\n",
       "      <th>Aonach Mor Gondola</th>\n",
       "      <td>Aonach Mor Gondola</td>\n",
       "      <td>2.0</td>\n",
       "      <td>2000</td>\n",
       "      <td>0.403611</td>\n",
       "      <td>0.518889</td>\n",
       "      <td>uphill</td>\n",
       "    </tr>\n",
       "    <tr>\n",
       "      <th>Broughton Brewery</th>\n",
       "      <td>Broughton Brewery</td>\n",
       "      <td>2.0</td>\n",
       "      <td>650</td>\n",
       "      <td>0.254444</td>\n",
       "      <td>0.316667</td>\n",
       "      <td>other</td>\n",
       "    </tr>\n",
       "    <tr>\n",
       "      <th>El-Brim-Ick</th>\n",
       "      <td>El-Brim-Ick</td>\n",
       "      <td>3.0</td>\n",
       "      <td>750</td>\n",
       "      <td>0.485833</td>\n",
       "      <td>0.389167</td>\n",
       "      <td>other</td>\n",
       "    </tr>\n",
       "    <tr>\n",
       "      <th>The Devils Burdens</th>\n",
       "      <td>The Devils Burdens</td>\n",
       "      <td>21.0</td>\n",
       "      <td>4100</td>\n",
       "      <td>2.399722</td>\n",
       "      <td>3.093333</td>\n",
       "      <td>relay</td>\n",
       "    </tr>\n",
       "    <tr>\n",
       "      <th>Chapelgill</th>\n",
       "      <td>Chapelgill</td>\n",
       "      <td>1.5</td>\n",
       "      <td>1400</td>\n",
       "      <td>0.314444</td>\n",
       "      <td>0.376667</td>\n",
       "      <td>hill</td>\n",
       "    </tr>\n",
       "  </tbody>\n",
       "</table>\n",
       "</div>"
      ],
      "text/plain": [
       "                                    id  dist climb      time     timef    type\n",
       "id                                                                            \n",
       "Aonach Mor Gondola  Aonach Mor Gondola   2.0  2000  0.403611  0.518889  uphill\n",
       "Broughton Brewery    Broughton Brewery   2.0   650  0.254444  0.316667   other\n",
       "El-Brim-Ick                El-Brim-Ick   3.0   750  0.485833  0.389167   other\n",
       "The Devils Burdens  The Devils Burdens  21.0  4100  2.399722  3.093333   relay\n",
       "Chapelgill                  Chapelgill   1.5  1400  0.314444  0.376667    hill"
      ]
     },
     "execution_count": 115,
     "metadata": {},
     "output_type": "execute_result"
    }
   ],
   "source": [
    "y.head()"
   ]
  },
  {
   "cell_type": "code",
   "execution_count": null,
   "metadata": {},
   "outputs": [],
   "source": []
  },
  {
   "cell_type": "markdown",
   "metadata": {
    "colab_type": "text",
    "id": "GL_JBYmarPnn"
   },
   "source": [
    "### Задание 10\n",
    "\n",
    "Создать столбец `time_min`, который содержит время маршрута, измеренное в минутах."
   ]
  },
  {
   "cell_type": "code",
   "execution_count": 116,
   "metadata": {
    "colab": {},
    "colab_type": "code",
    "id": "Z9BCFTSsrPno"
   },
   "outputs": [],
   "source": [
    "dat['time_min'] = dat['time'] * 60"
   ]
  },
  {
   "cell_type": "code",
   "execution_count": 117,
   "metadata": {},
   "outputs": [
    {
     "data": {
      "text/html": [
       "<div>\n",
       "<style scoped>\n",
       "    .dataframe tbody tr th:only-of-type {\n",
       "        vertical-align: middle;\n",
       "    }\n",
       "\n",
       "    .dataframe tbody tr th {\n",
       "        vertical-align: top;\n",
       "    }\n",
       "\n",
       "    .dataframe thead th {\n",
       "        text-align: right;\n",
       "    }\n",
       "</style>\n",
       "<table border=\"1\" class=\"dataframe\">\n",
       "  <thead>\n",
       "    <tr style=\"text-align: right;\">\n",
       "      <th></th>\n",
       "      <th>id</th>\n",
       "      <th>dist</th>\n",
       "      <th>climb</th>\n",
       "      <th>time</th>\n",
       "      <th>timef</th>\n",
       "      <th>type</th>\n",
       "      <th>time_min</th>\n",
       "    </tr>\n",
       "    <tr>\n",
       "      <th>id</th>\n",
       "      <th></th>\n",
       "      <th></th>\n",
       "      <th></th>\n",
       "      <th></th>\n",
       "      <th></th>\n",
       "      <th></th>\n",
       "      <th></th>\n",
       "    </tr>\n",
       "  </thead>\n",
       "  <tbody>\n",
       "    <tr>\n",
       "      <th>Aonach Mor Gondola</th>\n",
       "      <td>Aonach Mor Gondola</td>\n",
       "      <td>2.0</td>\n",
       "      <td>2000</td>\n",
       "      <td>0.403611</td>\n",
       "      <td>0.518889</td>\n",
       "      <td>uphill</td>\n",
       "      <td>24.216667</td>\n",
       "    </tr>\n",
       "    <tr>\n",
       "      <th>Broughton Brewery</th>\n",
       "      <td>Broughton Brewery</td>\n",
       "      <td>2.0</td>\n",
       "      <td>650</td>\n",
       "      <td>0.254444</td>\n",
       "      <td>0.316667</td>\n",
       "      <td>other</td>\n",
       "      <td>15.266667</td>\n",
       "    </tr>\n",
       "    <tr>\n",
       "      <th>El-Brim-Ick</th>\n",
       "      <td>El-Brim-Ick</td>\n",
       "      <td>3.0</td>\n",
       "      <td>750</td>\n",
       "      <td>0.485833</td>\n",
       "      <td>0.389167</td>\n",
       "      <td>other</td>\n",
       "      <td>29.15</td>\n",
       "    </tr>\n",
       "    <tr>\n",
       "      <th>The Devils Burdens</th>\n",
       "      <td>The Devils Burdens</td>\n",
       "      <td>21.0</td>\n",
       "      <td>4100</td>\n",
       "      <td>2.399722</td>\n",
       "      <td>3.093333</td>\n",
       "      <td>relay</td>\n",
       "      <td>143.983333</td>\n",
       "    </tr>\n",
       "    <tr>\n",
       "      <th>Tiso Carnethy</th>\n",
       "      <td>Tiso Carnethy</td>\n",
       "      <td>6.0</td>\n",
       "      <td>2500</td>\n",
       "      <td>0.782222</td>\n",
       "      <td>0.919167</td>\n",
       "      <td>hill</td>\n",
       "      <td>46.933333</td>\n",
       "    </tr>\n",
       "    <tr>\n",
       "      <th>...</th>\n",
       "      <td>...</td>\n",
       "      <td>...</td>\n",
       "      <td>...</td>\n",
       "      <td>...</td>\n",
       "      <td>...</td>\n",
       "      <td>...</td>\n",
       "      <td>...</td>\n",
       "    </tr>\n",
       "    <tr>\n",
       "      <th>Tinto</th>\n",
       "      <td>Tinto</td>\n",
       "      <td>4.5</td>\n",
       "      <td>1500</td>\n",
       "      <td>0.499444</td>\n",
       "      <td>0.581111</td>\n",
       "      <td>hill</td>\n",
       "      <td>29.966667</td>\n",
       "    </tr>\n",
       "    <tr>\n",
       "      <th>Druim Fada</th>\n",
       "      <td>Druim Fada</td>\n",
       "      <td>6.5</td>\n",
       "      <td>1000</td>\n",
       "      <td>0.751111</td>\n",
       "      <td>0.972222</td>\n",
       "      <td>other</td>\n",
       "      <td>45.066667</td>\n",
       "    </tr>\n",
       "    <tr>\n",
       "      <th>Elrick</th>\n",
       "      <td>Elrick</td>\n",
       "      <td>3.6</td>\n",
       "      <td>650</td>\n",
       "      <td>0.358056</td>\n",
       "      <td>0.4425</td>\n",
       "      <td>relay</td>\n",
       "      <td>21.483333</td>\n",
       "    </tr>\n",
       "    <tr>\n",
       "      <th>Gondola</th>\n",
       "      <td>Gondola</td>\n",
       "      <td>2.5</td>\n",
       "      <td>2000</td>\n",
       "      <td>0.387222</td>\n",
       "      <td>0.518889</td>\n",
       "      <td>uphill</td>\n",
       "      <td>23.233333</td>\n",
       "    </tr>\n",
       "    <tr>\n",
       "      <th>Greenmantle</th>\n",
       "      <td>Greenmantle</td>\n",
       "      <td>2.0</td>\n",
       "      <td>650</td>\n",
       "      <td>0.254444</td>\n",
       "      <td>0.316667</td>\n",
       "      <td>other</td>\n",
       "      <td>15.266667</td>\n",
       "    </tr>\n",
       "  </tbody>\n",
       "</table>\n",
       "<p>77 rows × 7 columns</p>\n",
       "</div>"
      ],
      "text/plain": [
       "                                    id  dist climb      time     timef  \\\n",
       "id                                                                       \n",
       "Aonach Mor Gondola  Aonach Mor Gondola   2.0  2000  0.403611  0.518889   \n",
       "Broughton Brewery    Broughton Brewery   2.0   650  0.254444  0.316667   \n",
       "El-Brim-Ick                El-Brim-Ick   3.0   750  0.485833  0.389167   \n",
       "The Devils Burdens  The Devils Burdens  21.0  4100  2.399722  3.093333   \n",
       "Tiso Carnethy            Tiso Carnethy   6.0  2500  0.782222  0.919167   \n",
       "...                                ...   ...   ...       ...       ...   \n",
       "Tinto                            Tinto   4.5  1500  0.499444  0.581111   \n",
       "Druim Fada                  Druim Fada   6.5  1000  0.751111  0.972222   \n",
       "Elrick                          Elrick   3.6   650  0.358056    0.4425   \n",
       "Gondola                        Gondola   2.5  2000  0.387222  0.518889   \n",
       "Greenmantle                Greenmantle   2.0   650  0.254444  0.316667   \n",
       "\n",
       "                      type    time_min  \n",
       "id                                      \n",
       "Aonach Mor Gondola  uphill   24.216667  \n",
       "Broughton Brewery    other   15.266667  \n",
       "El-Brim-Ick          other       29.15  \n",
       "The Devils Burdens   relay  143.983333  \n",
       "Tiso Carnethy         hill   46.933333  \n",
       "...                    ...         ...  \n",
       "Tinto                 hill   29.966667  \n",
       "Druim Fada           other   45.066667  \n",
       "Elrick               relay   21.483333  \n",
       "Gondola             uphill   23.233333  \n",
       "Greenmantle          other   15.266667  \n",
       "\n",
       "[77 rows x 7 columns]"
      ]
     },
     "execution_count": 117,
     "metadata": {},
     "output_type": "execute_result"
    }
   ],
   "source": [
    "dat"
   ]
  },
  {
   "cell_type": "code",
   "execution_count": null,
   "metadata": {},
   "outputs": [],
   "source": []
  },
  {
   "cell_type": "markdown",
   "metadata": {
    "colab_type": "text",
    "id": "AlVDMiverPnq"
   },
   "source": [
    "### Задание 11\n",
    "\n",
    "Создать столбец `year` с годом соревнований (везде 2000 год). Внимание: столбец с годом должен быть числовым (целочисленным)."
   ]
  },
  {
   "cell_type": "code",
   "execution_count": 118,
   "metadata": {
    "colab": {},
    "colab_type": "code",
    "id": "NZVwqWRbrPnq"
   },
   "outputs": [],
   "source": [
    "dat['year'] = 2000"
   ]
  },
  {
   "cell_type": "code",
   "execution_count": 120,
   "metadata": {},
   "outputs": [
    {
     "name": "stdout",
     "output_type": "stream",
     "text": [
      "<class 'pandas.core.frame.DataFrame'>\n",
      "Index: 77 entries, Aonach Mor Gondola to Greenmantle\n",
      "Data columns (total 8 columns):\n",
      " #   Column    Non-Null Count  Dtype \n",
      "---  ------    --------------  ----- \n",
      " 0   id        77 non-null     object\n",
      " 1   dist      77 non-null     object\n",
      " 2   climb     77 non-null     object\n",
      " 3   time      77 non-null     object\n",
      " 4   timef     75 non-null     object\n",
      " 5   type      77 non-null     object\n",
      " 6   time_min  77 non-null     object\n",
      " 7   year      77 non-null     int64 \n",
      "dtypes: int64(1), object(7)\n",
      "memory usage: 7.5+ KB\n"
     ]
    }
   ],
   "source": [
    "dat.info() # int64"
   ]
  }
 ],
 "metadata": {
  "colab": {
   "collapsed_sections": [],
   "name": "jun_anl_pandas1.ipynb",
   "provenance": []
  },
  "kernelspec": {
   "display_name": "Python 3 (ipykernel)",
   "language": "python",
   "name": "python3"
  },
  "language_info": {
   "codemirror_mode": {
    "name": "ipython",
    "version": 3
   },
   "file_extension": ".py",
   "mimetype": "text/x-python",
   "name": "python",
   "nbconvert_exporter": "python",
   "pygments_lexer": "ipython3",
   "version": "3.9.7"
  }
 },
 "nbformat": 4,
 "nbformat_minor": 1
}
